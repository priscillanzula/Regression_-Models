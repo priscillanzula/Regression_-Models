{
 "cells": [
  {
   "cell_type": "code",
   "execution_count": 1,
   "id": "7f7d42be-e03f-443a-a7ae-8aa76e3f9f48",
   "metadata": {},
   "outputs": [],
   "source": [
    "# importing required libraries\n",
    "import pandas as pd\n",
    "import numpy as np\n",
    "import seaborn as sns\n",
    "import matplotlib.pyplot as plt\n",
    "from sklearn import linear_model"
   ]
  },
  {
   "cell_type": "code",
   "execution_count": 2,
   "id": "9fc3a759-d9b2-4fe6-9733-e6c4c9f5de48",
   "metadata": {},
   "outputs": [
    {
     "data": {
      "text/html": [
       "<div>\n",
       "<style scoped>\n",
       "    .dataframe tbody tr th:only-of-type {\n",
       "        vertical-align: middle;\n",
       "    }\n",
       "\n",
       "    .dataframe tbody tr th {\n",
       "        vertical-align: top;\n",
       "    }\n",
       "\n",
       "    .dataframe thead th {\n",
       "        text-align: right;\n",
       "    }\n",
       "</style>\n",
       "<table border=\"1\" class=\"dataframe\">\n",
       "  <thead>\n",
       "    <tr style=\"text-align: right;\">\n",
       "      <th></th>\n",
       "      <th>Domain Code</th>\n",
       "      <th>Domain</th>\n",
       "      <th>Area Code (M49)</th>\n",
       "      <th>Area</th>\n",
       "      <th>Element Code</th>\n",
       "      <th>Element</th>\n",
       "      <th>Item Code (CPC)</th>\n",
       "      <th>Item</th>\n",
       "      <th>Year Code</th>\n",
       "      <th>Year</th>\n",
       "      <th>Unit</th>\n",
       "      <th>Value</th>\n",
       "      <th>Flag</th>\n",
       "      <th>Flag Description</th>\n",
       "    </tr>\n",
       "  </thead>\n",
       "  <tbody>\n",
       "    <tr>\n",
       "      <th>0</th>\n",
       "      <td>QCL</td>\n",
       "      <td>Crops and livestock products</td>\n",
       "      <td>404</td>\n",
       "      <td>Kenya</td>\n",
       "      <td>5510</td>\n",
       "      <td>Production</td>\n",
       "      <td>1929.07</td>\n",
       "      <td>Abaca, manila hemp, raw</td>\n",
       "      <td>1976</td>\n",
       "      <td>1976</td>\n",
       "      <td>tonnes</td>\n",
       "      <td>10.0</td>\n",
       "      <td>E</td>\n",
       "      <td>Estimated value</td>\n",
       "    </tr>\n",
       "    <tr>\n",
       "      <th>1</th>\n",
       "      <td>QCL</td>\n",
       "      <td>Crops and livestock products</td>\n",
       "      <td>404</td>\n",
       "      <td>Kenya</td>\n",
       "      <td>5510</td>\n",
       "      <td>Production</td>\n",
       "      <td>1929.07</td>\n",
       "      <td>Abaca, manila hemp, raw</td>\n",
       "      <td>1977</td>\n",
       "      <td>1977</td>\n",
       "      <td>tonnes</td>\n",
       "      <td>10.0</td>\n",
       "      <td>E</td>\n",
       "      <td>Estimated value</td>\n",
       "    </tr>\n",
       "    <tr>\n",
       "      <th>2</th>\n",
       "      <td>QCL</td>\n",
       "      <td>Crops and livestock products</td>\n",
       "      <td>404</td>\n",
       "      <td>Kenya</td>\n",
       "      <td>5510</td>\n",
       "      <td>Production</td>\n",
       "      <td>1929.07</td>\n",
       "      <td>Abaca, manila hemp, raw</td>\n",
       "      <td>1978</td>\n",
       "      <td>1978</td>\n",
       "      <td>tonnes</td>\n",
       "      <td>10.0</td>\n",
       "      <td>E</td>\n",
       "      <td>Estimated value</td>\n",
       "    </tr>\n",
       "    <tr>\n",
       "      <th>3</th>\n",
       "      <td>QCL</td>\n",
       "      <td>Crops and livestock products</td>\n",
       "      <td>404</td>\n",
       "      <td>Kenya</td>\n",
       "      <td>5510</td>\n",
       "      <td>Production</td>\n",
       "      <td>1929.07</td>\n",
       "      <td>Abaca, manila hemp, raw</td>\n",
       "      <td>1979</td>\n",
       "      <td>1979</td>\n",
       "      <td>tonnes</td>\n",
       "      <td>10.0</td>\n",
       "      <td>E</td>\n",
       "      <td>Estimated value</td>\n",
       "    </tr>\n",
       "    <tr>\n",
       "      <th>4</th>\n",
       "      <td>QCL</td>\n",
       "      <td>Crops and livestock products</td>\n",
       "      <td>404</td>\n",
       "      <td>Kenya</td>\n",
       "      <td>5510</td>\n",
       "      <td>Production</td>\n",
       "      <td>1929.07</td>\n",
       "      <td>Abaca, manila hemp, raw</td>\n",
       "      <td>1980</td>\n",
       "      <td>1980</td>\n",
       "      <td>tonnes</td>\n",
       "      <td>10.0</td>\n",
       "      <td>E</td>\n",
       "      <td>Estimated value</td>\n",
       "    </tr>\n",
       "  </tbody>\n",
       "</table>\n",
       "</div>"
      ],
      "text/plain": [
       "  Domain Code                        Domain  Area Code (M49)   Area  \\\n",
       "0         QCL  Crops and livestock products              404  Kenya   \n",
       "1         QCL  Crops and livestock products              404  Kenya   \n",
       "2         QCL  Crops and livestock products              404  Kenya   \n",
       "3         QCL  Crops and livestock products              404  Kenya   \n",
       "4         QCL  Crops and livestock products              404  Kenya   \n",
       "\n",
       "   Element Code     Element Item Code (CPC)                     Item  \\\n",
       "0          5510  Production         1929.07  Abaca, manila hemp, raw   \n",
       "1          5510  Production         1929.07  Abaca, manila hemp, raw   \n",
       "2          5510  Production         1929.07  Abaca, manila hemp, raw   \n",
       "3          5510  Production         1929.07  Abaca, manila hemp, raw   \n",
       "4          5510  Production         1929.07  Abaca, manila hemp, raw   \n",
       "\n",
       "   Year Code  Year    Unit  Value Flag Flag Description  \n",
       "0       1976  1976  tonnes   10.0    E  Estimated value  \n",
       "1       1977  1977  tonnes   10.0    E  Estimated value  \n",
       "2       1978  1978  tonnes   10.0    E  Estimated value  \n",
       "3       1979  1979  tonnes   10.0    E  Estimated value  \n",
       "4       1980  1980  tonnes   10.0    E  Estimated value  "
      ]
     },
     "execution_count": 2,
     "metadata": {},
     "output_type": "execute_result"
    }
   ],
   "source": [
    "# load dataset\n",
    "df1 =pd.read_excel('agri_data.xlsx' )\n",
    "df1.head()"
   ]
  },
  {
   "cell_type": "code",
   "execution_count": 3,
   "id": "5e2a78e9-6e2d-4654-a5a3-d69155efafd3",
   "metadata": {},
   "outputs": [
    {
     "data": {
      "text/html": [
       "<div>\n",
       "<style scoped>\n",
       "    .dataframe tbody tr th:only-of-type {\n",
       "        vertical-align: middle;\n",
       "    }\n",
       "\n",
       "    .dataframe tbody tr th {\n",
       "        vertical-align: top;\n",
       "    }\n",
       "\n",
       "    .dataframe thead th {\n",
       "        text-align: right;\n",
       "    }\n",
       "</style>\n",
       "<table border=\"1\" class=\"dataframe\">\n",
       "  <thead>\n",
       "    <tr style=\"text-align: right;\">\n",
       "      <th></th>\n",
       "      <th>Domain Code</th>\n",
       "      <th>Domain</th>\n",
       "      <th>Area Code (M49)</th>\n",
       "      <th>Area</th>\n",
       "      <th>Element Code</th>\n",
       "      <th>Element</th>\n",
       "      <th>Item Code (CPC)</th>\n",
       "      <th>Item</th>\n",
       "      <th>Year Code</th>\n",
       "      <th>Year</th>\n",
       "      <th>Unit</th>\n",
       "      <th>Value</th>\n",
       "      <th>Flag</th>\n",
       "      <th>Flag Description</th>\n",
       "    </tr>\n",
       "  </thead>\n",
       "  <tbody>\n",
       "    <tr>\n",
       "      <th>18177</th>\n",
       "      <td>QCL</td>\n",
       "      <td>Crops and livestock products</td>\n",
       "      <td>404</td>\n",
       "      <td>Kenya</td>\n",
       "      <td>5510</td>\n",
       "      <td>Production</td>\n",
       "      <td>1540</td>\n",
       "      <td>Yams</td>\n",
       "      <td>2017</td>\n",
       "      <td>2017</td>\n",
       "      <td>tonnes</td>\n",
       "      <td>10417.00</td>\n",
       "      <td>A</td>\n",
       "      <td>Official figure</td>\n",
       "    </tr>\n",
       "    <tr>\n",
       "      <th>18178</th>\n",
       "      <td>QCL</td>\n",
       "      <td>Crops and livestock products</td>\n",
       "      <td>404</td>\n",
       "      <td>Kenya</td>\n",
       "      <td>5510</td>\n",
       "      <td>Production</td>\n",
       "      <td>1540</td>\n",
       "      <td>Yams</td>\n",
       "      <td>2018</td>\n",
       "      <td>2018</td>\n",
       "      <td>tonnes</td>\n",
       "      <td>9610.49</td>\n",
       "      <td>A</td>\n",
       "      <td>Official figure</td>\n",
       "    </tr>\n",
       "    <tr>\n",
       "      <th>18179</th>\n",
       "      <td>QCL</td>\n",
       "      <td>Crops and livestock products</td>\n",
       "      <td>404</td>\n",
       "      <td>Kenya</td>\n",
       "      <td>5510</td>\n",
       "      <td>Production</td>\n",
       "      <td>1540</td>\n",
       "      <td>Yams</td>\n",
       "      <td>2019</td>\n",
       "      <td>2019</td>\n",
       "      <td>tonnes</td>\n",
       "      <td>9860.36</td>\n",
       "      <td>A</td>\n",
       "      <td>Official figure</td>\n",
       "    </tr>\n",
       "    <tr>\n",
       "      <th>18180</th>\n",
       "      <td>QCL</td>\n",
       "      <td>Crops and livestock products</td>\n",
       "      <td>404</td>\n",
       "      <td>Kenya</td>\n",
       "      <td>5510</td>\n",
       "      <td>Production</td>\n",
       "      <td>1540</td>\n",
       "      <td>Yams</td>\n",
       "      <td>2020</td>\n",
       "      <td>2020</td>\n",
       "      <td>tonnes</td>\n",
       "      <td>8009.16</td>\n",
       "      <td>A</td>\n",
       "      <td>Official figure</td>\n",
       "    </tr>\n",
       "    <tr>\n",
       "      <th>18181</th>\n",
       "      <td>QCL</td>\n",
       "      <td>Crops and livestock products</td>\n",
       "      <td>404</td>\n",
       "      <td>Kenya</td>\n",
       "      <td>5510</td>\n",
       "      <td>Production</td>\n",
       "      <td>1540</td>\n",
       "      <td>Yams</td>\n",
       "      <td>2021</td>\n",
       "      <td>2021</td>\n",
       "      <td>tonnes</td>\n",
       "      <td>7669.00</td>\n",
       "      <td>A</td>\n",
       "      <td>Official figure</td>\n",
       "    </tr>\n",
       "  </tbody>\n",
       "</table>\n",
       "</div>"
      ],
      "text/plain": [
       "      Domain Code                        Domain  Area Code (M49)   Area  \\\n",
       "18177         QCL  Crops and livestock products              404  Kenya   \n",
       "18178         QCL  Crops and livestock products              404  Kenya   \n",
       "18179         QCL  Crops and livestock products              404  Kenya   \n",
       "18180         QCL  Crops and livestock products              404  Kenya   \n",
       "18181         QCL  Crops and livestock products              404  Kenya   \n",
       "\n",
       "       Element Code     Element Item Code (CPC)  Item  Year Code  Year  \\\n",
       "18177          5510  Production            1540  Yams       2017  2017   \n",
       "18178          5510  Production            1540  Yams       2018  2018   \n",
       "18179          5510  Production            1540  Yams       2019  2019   \n",
       "18180          5510  Production            1540  Yams       2020  2020   \n",
       "18181          5510  Production            1540  Yams       2021  2021   \n",
       "\n",
       "         Unit     Value Flag Flag Description  \n",
       "18177  tonnes  10417.00    A  Official figure  \n",
       "18178  tonnes   9610.49    A  Official figure  \n",
       "18179  tonnes   9860.36    A  Official figure  \n",
       "18180  tonnes   8009.16    A  Official figure  \n",
       "18181  tonnes   7669.00    A  Official figure  "
      ]
     },
     "execution_count": 3,
     "metadata": {},
     "output_type": "execute_result"
    }
   ],
   "source": [
    "df1.tail()"
   ]
  },
  {
   "cell_type": "code",
   "execution_count": 4,
   "id": "edbff985-df69-44d7-9fbf-af346a2c20ff",
   "metadata": {},
   "outputs": [
    {
     "data": {
      "text/plain": [
       "(18182, 14)"
      ]
     },
     "execution_count": 4,
     "metadata": {},
     "output_type": "execute_result"
    }
   ],
   "source": [
    "df1.shape"
   ]
  },
  {
   "cell_type": "code",
   "execution_count": 5,
   "id": "83b0edf1-e216-4d30-89e1-43bdd0375f95",
   "metadata": {},
   "outputs": [
    {
     "name": "stdout",
     "output_type": "stream",
     "text": [
      "<class 'pandas.core.frame.DataFrame'>\n",
      "RangeIndex: 18182 entries, 0 to 18181\n",
      "Data columns (total 14 columns):\n",
      " #   Column            Non-Null Count  Dtype  \n",
      "---  ------            --------------  -----  \n",
      " 0   Domain Code       18182 non-null  object \n",
      " 1   Domain            18182 non-null  object \n",
      " 2   Area Code (M49)   18182 non-null  int64  \n",
      " 3   Area              18182 non-null  object \n",
      " 4   Element Code      18182 non-null  int64  \n",
      " 5   Element           18182 non-null  object \n",
      " 6   Item Code (CPC)   18182 non-null  object \n",
      " 7   Item              18182 non-null  object \n",
      " 8   Year Code         18182 non-null  int64  \n",
      " 9   Year              18182 non-null  int64  \n",
      " 10  Unit              18182 non-null  object \n",
      " 11  Value             18182 non-null  float64\n",
      " 12  Flag              18182 non-null  object \n",
      " 13  Flag Description  18182 non-null  object \n",
      "dtypes: float64(1), int64(4), object(9)\n",
      "memory usage: 1.9+ MB\n"
     ]
    }
   ],
   "source": [
    "df1.info()"
   ]
  },
  {
   "cell_type": "code",
   "execution_count": 6,
   "id": "0cc0537f-f1d5-4c96-b1ee-ed5912de217c",
   "metadata": {},
   "outputs": [
    {
     "data": {
      "text/plain": [
       "Domain Code             1\n",
       "Domain                  1\n",
       "Area Code (M49)         1\n",
       "Area                    1\n",
       "Element Code           18\n",
       "Element                 9\n",
       "Item Code (CPC)       150\n",
       "Item                  150\n",
       "Year Code              61\n",
       "Year                   61\n",
       "Unit                   12\n",
       "Value               10318\n",
       "Flag                    5\n",
       "Flag Description        5\n",
       "dtype: int64"
      ]
     },
     "execution_count": 6,
     "metadata": {},
     "output_type": "execute_result"
    }
   ],
   "source": [
    "df1.nunique()"
   ]
  },
  {
   "cell_type": "code",
   "execution_count": 7,
   "id": "58f8f1ed-9a8a-4aaf-91d8-8c7b1d7ade96",
   "metadata": {},
   "outputs": [
    {
     "data": {
      "text/html": [
       "<div>\n",
       "<style scoped>\n",
       "    .dataframe tbody tr th:only-of-type {\n",
       "        vertical-align: middle;\n",
       "    }\n",
       "\n",
       "    .dataframe tbody tr th {\n",
       "        vertical-align: top;\n",
       "    }\n",
       "\n",
       "    .dataframe thead th {\n",
       "        text-align: right;\n",
       "    }\n",
       "</style>\n",
       "<table border=\"1\" class=\"dataframe\">\n",
       "  <thead>\n",
       "    <tr style=\"text-align: right;\">\n",
       "      <th></th>\n",
       "      <th>Area Code (M49)</th>\n",
       "      <th>Element Code</th>\n",
       "      <th>Year Code</th>\n",
       "      <th>Year</th>\n",
       "      <th>Value</th>\n",
       "    </tr>\n",
       "  </thead>\n",
       "  <tbody>\n",
       "    <tr>\n",
       "      <th>count</th>\n",
       "      <td>18182.0</td>\n",
       "      <td>18182.000000</td>\n",
       "      <td>18182.000000</td>\n",
       "      <td>18182.000000</td>\n",
       "      <td>1.818200e+04</td>\n",
       "    </tr>\n",
       "    <tr>\n",
       "      <th>mean</th>\n",
       "      <td>404.0</td>\n",
       "      <td>5413.666538</td>\n",
       "      <td>1994.152513</td>\n",
       "      <td>1994.152513</td>\n",
       "      <td>3.257563e+05</td>\n",
       "    </tr>\n",
       "    <tr>\n",
       "      <th>std</th>\n",
       "      <td>0.0</td>\n",
       "      <td>96.653696</td>\n",
       "      <td>17.136119</td>\n",
       "      <td>17.136119</td>\n",
       "      <td>1.501639e+06</td>\n",
       "    </tr>\n",
       "    <tr>\n",
       "      <th>min</th>\n",
       "      <td>404.0</td>\n",
       "      <td>5111.000000</td>\n",
       "      <td>1961.000000</td>\n",
       "      <td>1961.000000</td>\n",
       "      <td>0.000000e+00</td>\n",
       "    </tr>\n",
       "    <tr>\n",
       "      <th>25%</th>\n",
       "      <td>404.0</td>\n",
       "      <td>5312.000000</td>\n",
       "      <td>1980.000000</td>\n",
       "      <td>1980.000000</td>\n",
       "      <td>2.100000e+03</td>\n",
       "    </tr>\n",
       "    <tr>\n",
       "      <th>50%</th>\n",
       "      <td>404.0</td>\n",
       "      <td>5419.000000</td>\n",
       "      <td>1996.000000</td>\n",
       "      <td>1996.000000</td>\n",
       "      <td>1.300000e+04</td>\n",
       "    </tr>\n",
       "    <tr>\n",
       "      <th>75%</th>\n",
       "      <td>404.0</td>\n",
       "      <td>5510.000000</td>\n",
       "      <td>2009.000000</td>\n",
       "      <td>2009.000000</td>\n",
       "      <td>8.505925e+04</td>\n",
       "    </tr>\n",
       "    <tr>\n",
       "      <th>max</th>\n",
       "      <td>404.0</td>\n",
       "      <td>5513.000000</td>\n",
       "      <td>2021.000000</td>\n",
       "      <td>2021.000000</td>\n",
       "      <td>3.602118e+07</td>\n",
       "    </tr>\n",
       "  </tbody>\n",
       "</table>\n",
       "</div>"
      ],
      "text/plain": [
       "       Area Code (M49)  Element Code     Year Code          Year         Value\n",
       "count          18182.0  18182.000000  18182.000000  18182.000000  1.818200e+04\n",
       "mean             404.0   5413.666538   1994.152513   1994.152513  3.257563e+05\n",
       "std                0.0     96.653696     17.136119     17.136119  1.501639e+06\n",
       "min              404.0   5111.000000   1961.000000   1961.000000  0.000000e+00\n",
       "25%              404.0   5312.000000   1980.000000   1980.000000  2.100000e+03\n",
       "50%              404.0   5419.000000   1996.000000   1996.000000  1.300000e+04\n",
       "75%              404.0   5510.000000   2009.000000   2009.000000  8.505925e+04\n",
       "max              404.0   5513.000000   2021.000000   2021.000000  3.602118e+07"
      ]
     },
     "execution_count": 7,
     "metadata": {},
     "output_type": "execute_result"
    }
   ],
   "source": [
    "df1.describe()"
   ]
  },
  {
   "cell_type": "code",
   "execution_count": 8,
   "id": "f8337b4c-f559-4794-a365-ab2388c15939",
   "metadata": {},
   "outputs": [
    {
     "data": {
      "text/plain": [
       "Domain Code         0\n",
       "Domain              0\n",
       "Area Code (M49)     0\n",
       "Area                0\n",
       "Element Code        0\n",
       "Element             0\n",
       "Item Code (CPC)     0\n",
       "Item                0\n",
       "Year Code           0\n",
       "Year                0\n",
       "Unit                0\n",
       "Value               0\n",
       "Flag                0\n",
       "Flag Description    0\n",
       "dtype: int64"
      ]
     },
     "execution_count": 8,
     "metadata": {},
     "output_type": "execute_result"
    }
   ],
   "source": [
    "df1.isnull().sum()"
   ]
  },
  {
   "cell_type": "code",
   "execution_count": 9,
   "id": "02e811b6-1985-4910-aac0-8fa280157bbe",
   "metadata": {},
   "outputs": [
    {
     "data": {
      "text/plain": [
       "0"
      ]
     },
     "execution_count": 9,
     "metadata": {},
     "output_type": "execute_result"
    }
   ],
   "source": [
    "df1.duplicated().sum()"
   ]
  },
  {
   "cell_type": "code",
   "execution_count": 10,
   "id": "2f610478-f3ae-4cd3-8dad-2c43944547db",
   "metadata": {},
   "outputs": [
    {
     "data": {
      "text/plain": [
       "Index(['Domain Code', 'Domain', 'Area Code (M49)', 'Area', 'Element Code',\n",
       "       'Element', 'Item Code (CPC)', 'Item', 'Year Code', 'Year', 'Unit',\n",
       "       'Value', 'Flag', 'Flag Description'],\n",
       "      dtype='object')"
      ]
     },
     "execution_count": 10,
     "metadata": {},
     "output_type": "execute_result"
    }
   ],
   "source": [
    "df1.columns"
   ]
  },
  {
   "cell_type": "code",
   "execution_count": 11,
   "id": "3f0ce594-19c7-4b99-a4cd-af3cdb0c96a7",
   "metadata": {},
   "outputs": [],
   "source": [
    "# droping redudant data, the data we do not need for our analysis and modelling\n",
    "df= df1.drop(['Domain Code', 'Domain', 'Area Code (M49)', 'Area', 'Element Code','Item Code (CPC)','Year Code','Flag', 'Flag Description'], axis= 1)\n"
   ]
  },
  {
   "cell_type": "code",
   "execution_count": 16,
   "id": "1e64a621-bfff-4b91-bc0e-6d3992bad3a4",
   "metadata": {},
   "outputs": [
    {
     "data": {
      "text/html": [
       "<div>\n",
       "<style scoped>\n",
       "    .dataframe tbody tr th:only-of-type {\n",
       "        vertical-align: middle;\n",
       "    }\n",
       "\n",
       "    .dataframe tbody tr th {\n",
       "        vertical-align: top;\n",
       "    }\n",
       "\n",
       "    .dataframe thead th {\n",
       "        text-align: right;\n",
       "    }\n",
       "</style>\n",
       "<table border=\"1\" class=\"dataframe\">\n",
       "  <thead>\n",
       "    <tr style=\"text-align: right;\">\n",
       "      <th></th>\n",
       "      <th>Element</th>\n",
       "      <th>Item</th>\n",
       "      <th>Year</th>\n",
       "      <th>Unit</th>\n",
       "      <th>Value</th>\n",
       "    </tr>\n",
       "  </thead>\n",
       "  <tbody>\n",
       "    <tr>\n",
       "      <th>0</th>\n",
       "      <td>Production</td>\n",
       "      <td>Abaca, manila hemp, raw</td>\n",
       "      <td>1976</td>\n",
       "      <td>tonnes</td>\n",
       "      <td>10.0</td>\n",
       "    </tr>\n",
       "    <tr>\n",
       "      <th>1</th>\n",
       "      <td>Production</td>\n",
       "      <td>Abaca, manila hemp, raw</td>\n",
       "      <td>1977</td>\n",
       "      <td>tonnes</td>\n",
       "      <td>10.0</td>\n",
       "    </tr>\n",
       "    <tr>\n",
       "      <th>2</th>\n",
       "      <td>Production</td>\n",
       "      <td>Abaca, manila hemp, raw</td>\n",
       "      <td>1978</td>\n",
       "      <td>tonnes</td>\n",
       "      <td>10.0</td>\n",
       "    </tr>\n",
       "    <tr>\n",
       "      <th>3</th>\n",
       "      <td>Production</td>\n",
       "      <td>Abaca, manila hemp, raw</td>\n",
       "      <td>1979</td>\n",
       "      <td>tonnes</td>\n",
       "      <td>10.0</td>\n",
       "    </tr>\n",
       "    <tr>\n",
       "      <th>4</th>\n",
       "      <td>Production</td>\n",
       "      <td>Abaca, manila hemp, raw</td>\n",
       "      <td>1980</td>\n",
       "      <td>tonnes</td>\n",
       "      <td>10.0</td>\n",
       "    </tr>\n",
       "  </tbody>\n",
       "</table>\n",
       "</div>"
      ],
      "text/plain": [
       "      Element                     Item  Year    Unit  Value\n",
       "0  Production  Abaca, manila hemp, raw  1976  tonnes   10.0\n",
       "1  Production  Abaca, manila hemp, raw  1977  tonnes   10.0\n",
       "2  Production  Abaca, manila hemp, raw  1978  tonnes   10.0\n",
       "3  Production  Abaca, manila hemp, raw  1979  tonnes   10.0\n",
       "4  Production  Abaca, manila hemp, raw  1980  tonnes   10.0"
      ]
     },
     "execution_count": 16,
     "metadata": {},
     "output_type": "execute_result"
    }
   ],
   "source": [
    "df.head()"
   ]
  },
  {
   "cell_type": "code",
   "execution_count": 18,
   "id": "f65a9d8b-4386-4c52-b1fa-f3efd7686f77",
   "metadata": {},
   "outputs": [
    {
     "name": "stdout",
     "output_type": "stream",
     "text": [
      "0        tonnes\n",
      "1        tonnes\n",
      "2        tonnes\n",
      "3        tonnes\n",
      "4        tonnes\n",
      "          ...  \n",
      "18177    tonnes\n",
      "18178    tonnes\n",
      "18179    tonnes\n",
      "18180    tonnes\n",
      "18181    tonnes\n",
      "Name: Unit, Length: 18182, dtype: object\n"
     ]
    }
   ],
   "source": [
    "print(df['Unit'])"
   ]
  },
  {
   "cell_type": "code",
   "execution_count": 26,
   "id": "8895f13f-c786-4b09-9d5c-1b70e8836f3b",
   "metadata": {},
   "outputs": [
    {
     "data": {
      "text/plain": [
       "tonnes       7047\n",
       "ha           4171\n",
       "hg/ha        4109\n",
       "Head         1408\n",
       "hg/An         732\n",
       "1000 Head     297\n",
       "No            121\n",
       "0.1g/An       114\n",
       "100mg/An       61\n",
       "hg             60\n",
       "No/An          31\n",
       "1000 No        31\n",
       "Name: Unit, dtype: int64"
      ]
     },
     "execution_count": 26,
     "metadata": {},
     "output_type": "execute_result"
    }
   ],
   "source": [
    "df['Unit'].value_counts()"
   ]
  },
  {
   "cell_type": "code",
   "execution_count": null,
   "id": "97e69e4b-fc0d-4f48-9627-88dc665c6cdf",
   "metadata": {},
   "outputs": [],
   "source": []
  }
 ],
 "metadata": {
  "kernelspec": {
   "display_name": "Python (tf-env)",
   "language": "python",
   "name": "tf-env"
  },
  "language_info": {
   "codemirror_mode": {
    "name": "ipython",
    "version": 3
   },
   "file_extension": ".py",
   "mimetype": "text/x-python",
   "name": "python",
   "nbconvert_exporter": "python",
   "pygments_lexer": "ipython3",
   "version": "3.10.8"
  }
 },
 "nbformat": 4,
 "nbformat_minor": 5
}
